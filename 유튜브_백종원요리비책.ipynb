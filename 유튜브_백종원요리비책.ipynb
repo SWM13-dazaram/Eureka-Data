{
 "cells": [
  {
   "cell_type": "code",
   "execution_count": 27,
   "id": "70867460",
   "metadata": {},
   "outputs": [],
   "source": [
    "#pip install pytube\n",
    "from pytube import YouTube, Playlist\n",
    "from tqdm import tqdm"
   ]
  },
  {
   "cell_type": "code",
   "execution_count": 28,
   "id": "9f2d0b53",
   "metadata": {},
   "outputs": [],
   "source": [
    "# 백종원의 요리비책 모두보기 플레이리스트 호출\n",
    "playlist_url = \"https://www.youtube.com/watch?v=fpqJOFMfhmk&list=PLoABXt5mipg4vxLw0NsRQLDDVBpOkshzF\"\n",
    "playlist = Playlist(playlist_url)"
   ]
  },
  {
   "cell_type": "code",
   "execution_count": 29,
   "id": "b3366cc6",
   "metadata": {},
   "outputs": [
    {
     "name": "stderr",
     "output_type": "stream",
     "text": [
      "100%|█████████████████████████████████████████| 426/426 [04:09<00:00,  1.70it/s]\n"
     ]
    }
   ],
   "source": [
    "descriptions = []\n",
    "for url in tqdm(playlist.video_urls):\n",
    "    yt = YouTube(url)\n",
    "    info = {}\n",
    "    info['title'] = yt.title\n",
    "    info['description'] = yt.description\n",
    "    descriptions.append(info)"
   ]
  },
  {
   "cell_type": "code",
   "execution_count": 30,
   "id": "9bc687a4",
   "metadata": {},
   "outputs": [
    {
     "name": "stderr",
     "output_type": "stream",
     "text": [
      "100%|█████████████████████████████████████| 426/426 [00:00<00:00, 224694.86it/s]\n"
     ]
    }
   ],
   "source": [
    "filtered_descriptions = []\n",
    "for desc in tqdm(descriptions):\n",
    "    if \"재료\" in desc['description']:\n",
    "        filtered_descriptions.append(desc)"
   ]
  },
  {
   "cell_type": "code",
   "execution_count": 34,
   "id": "be80dd8f",
   "metadata": {},
   "outputs": [
    {
     "data": {
      "text/plain": [
       "299"
      ]
     },
     "execution_count": 34,
     "metadata": {},
     "output_type": "execute_result"
    }
   ],
   "source": [
    "len(filtered_descriptions)"
   ]
  },
  {
   "cell_type": "code",
   "execution_count": 35,
   "id": "a96e1aff",
   "metadata": {},
   "outputs": [
    {
     "data": {
      "text/plain": [
       "{'title': '[제1회 주주총회_EP.3]드디어 증류주 먹는다!🍶 자기야! 내가 원했던 게 이거자나!🙌 취기를 빌려 고백하는 주당들의 술 취향까지😚',\n",
       " 'description': \"팀원들 : 주주총회에서 증류주 먹을 때까지 숨 참는다(흐읍!)\\n숨 참고 있는 팀원분들 숨 쉬라고 준비한 영상!\\n소주=싼 술? 아직도 이런 편견 가진 분들 있으시죠?\\n알고 보면 전 세계 어디에도 밀리지 않는 우리 증류주!\\n(위스키, 럼, 진, 브랜디, 테킬라, 보드카, 그라파 다 덤벼!)\\n\\u3000\\n구수하고 누룽지 같은 상압식 증류주부터\\n깔끔하고 재료 본연의 향이 잘 살아 있는 감압식 증류주까지\\n생쌀로 술을 빚는다고? 거봉으로 와인 말고 증류주를 만들어?\\n\\u3000\\n술에 관한 모든 궁금증을 모아 모아서\\n오늘도 우리 술 한 판 제대로 털어봅니다!\\n\\u3000\\n*주주총회에서 소개된 전통주의 자세한 정보와 구매처는 '백술닷컴'에서 확인하실 수 있습니다.\\n \\u3000\\n백술닷컴 홈페이지 :\\nhttps://www.paiksool.com/\\n\\n#백술도가 #전통주 #증류주\"}"
      ]
     },
     "execution_count": 35,
     "metadata": {},
     "output_type": "execute_result"
    }
   ],
   "source": [
    "filtered_descriptions[2]"
   ]
  },
  {
   "cell_type": "code",
   "execution_count": null,
   "id": "28bae655",
   "metadata": {},
   "outputs": [],
   "source": []
  }
 ],
 "metadata": {
  "kernelspec": {
   "display_name": "Python 3 (ipykernel)",
   "language": "python",
   "name": "python3"
  },
  "language_info": {
   "codemirror_mode": {
    "name": "ipython",
    "version": 3
   },
   "file_extension": ".py",
   "mimetype": "text/x-python",
   "name": "python",
   "nbconvert_exporter": "python",
   "pygments_lexer": "ipython3",
   "version": "3.9.12"
  }
 },
 "nbformat": 4,
 "nbformat_minor": 5
}
