{
 "cells": [
  {
   "cell_type": "code",
   "execution_count": 141,
   "id": "4f8be22f",
   "metadata": {},
   "outputs": [],
   "source": [
    "import requests\n",
    "from bs4 import BeautifulSoup\n",
    "from tqdm import tqdm\n",
    "basic_url = \"https://www.10000recipe.com\"\n",
    "ingridient_seperator = \"                                                                                    \""
   ]
  },
  {
   "cell_type": "code",
   "execution_count": 36,
   "id": "d36ba517",
   "metadata": {},
   "outputs": [],
   "source": [
    "def crawling_recipe_url_list(page):\n",
    "    recipe_list = []\n",
    "    url = f\"{basic_url}/recipe/list.html?order=date&page={page}\"\n",
    "    response = requests.get(url)\n",
    "    # dag만들 때 오류처리 하기\n",
    "    if response.status_code !=200:\n",
    "        return recipe_list\n",
    "    soup = BeautifulSoup(response.text, \"lxml\")\n",
    "    \n",
    "    for a in soup.find(\"ul\",\"common_sp_list_ul\").find_all(\"a\",\"common_sp_link\"):\n",
    "        recipe_list.append(basic_url+a.get(\"href\"))\n",
    "        \n",
    "    return recipe_list"
   ]
  },
  {
   "cell_type": "code",
   "execution_count": 146,
   "id": "6b6a26ef",
   "metadata": {},
   "outputs": [],
   "source": [
    "# try catch로 오류 처리 해주기\n",
    "def parsing_recipe_ingredients(soup):\n",
    "    ingredient_list = []\n",
    "    for ul in (soup.find(\"div\", \"ready_ingre3\").find_all(\"ul\")):\n",
    "        for li in ul.find_all(\"li\"):\n",
    "            ingredient = {}\n",
    "            ingredient['name'] = (li.text.split(\"\\n\")[0].split(ingridient_seperator)[0].strip(\" \"))\n",
    "            ingredient['quantity'] = (li.find(\"span\",\"ingre_unit\").text.strip(\" \"))\n",
    "            ingredient_list.append(ingredient)\n",
    "    return ingredient_list"
   ]
  },
  {
   "cell_type": "code",
   "execution_count": 147,
   "id": "e2177266",
   "metadata": {},
   "outputs": [],
   "source": [
    "def parsing_recipe_sequences(soup):\n",
    "    sequence_list = []\n",
    "    for idx, div in enumerate(soup.find(\"div\",\"view_step\").find_all(\"div\",\"view_step_cont\")):\n",
    "        sequence = {}\n",
    "        sequence['sequence'] = idx+1\n",
    "        sequence['content'] = div.text\n",
    "        sequence_list.append(sequence)\n",
    "    return sequence_list"
   ]
  },
  {
   "cell_type": "code",
   "execution_count": 150,
   "id": "10128add",
   "metadata": {},
   "outputs": [],
   "source": [
    "#옛날건 어떤가 확인해보기 레시피 크롤링\n",
    "recipe_url_list = crawling_recipe_url_list(1123)"
   ]
  },
  {
   "cell_type": "code",
   "execution_count": 153,
   "id": "4d636b0b",
   "metadata": {},
   "outputs": [
    {
     "name": "stderr",
     "output_type": "stream",
     "text": [
      " 62%|██████████████████████████▉                | 25/40 [00:08<00:05,  2.86it/s]"
     ]
    },
    {
     "name": "stdout",
     "output_type": "stream",
     "text": [
      "재료 오류 https://www.10000recipe.com/recipe/6936284\n"
     ]
    },
    {
     "name": "stderr",
     "output_type": "stream",
     "text": [
      "100%|███████████████████████████████████████████| 40/40 [00:13<00:00,  3.05it/s]\n"
     ]
    }
   ],
   "source": [
    "recipe_list = []\n",
    "for url in tqdm(recipe_url_list):\n",
    "    recipe = {}\n",
    "    response = requests.get(url)\n",
    "    # dag만들 때 오류처리 하기\n",
    "    if response.status_code !=200:\n",
    "        pass\n",
    "    soup = BeautifulSoup(response.text, \"lxml\")\n",
    "    \n",
    "    try:\n",
    "        recipe['ingredients'] = parsing_recipe_ingredients(soup)\n",
    "    except:\n",
    "        print(f\"재료 오류 {url}\")\n",
    "    try:\n",
    "        recipe['sequences'] = parsing_recipe_sequences(soup)\n",
    "    except:\n",
    "        print(f\"조리법 오류 {url}\")\n",
    "    \n",
    "    recipe_list.append(recipe)"
   ]
  },
  {
   "cell_type": "code",
   "execution_count": 159,
   "id": "912ebaa0",
   "metadata": {},
   "outputs": [
    {
     "data": {
      "text/plain": [
       "{'ingredients': [{'name': '핫케익가루', 'quantity': '200g'},\n",
       "  {'name': '달걀', 'quantity': '1개'},\n",
       "  {'name': '우유', 'quantity': '100ml'}],\n",
       " 'sequences': [{'sequence': 1, 'content': '볼에 계란을 깨 넣고'},\n",
       "  {'sequence': 2, 'content': '거품기로 달걀을 풀어준다'},\n",
       "  {'sequence': 3, 'content': '우유 100ml 부어 주고'},\n",
       "  {'sequence': 4, 'content': '거품기로 섞어 준다'},\n",
       "  {'sequence': 5, 'content': '핫케익 가루 넣고'},\n",
       "  {'sequence': 6, 'content': '덩어리 지지않게 섞어 준다'},\n",
       "  {'sequence': 7, 'content': '달군 팬에 1 국자 떠 올리고\\n기포가 생기면'},\n",
       "  {'sequence': 8,\n",
       "   'content': '뒤집어 구워 주면 완성입니다\\n메이플시럽,연유 취향대로\\n뿌려 먹어요\\n과일 올려 먹기 좋아요'},\n",
       "  {'sequence': 9, 'content': '초코가루 넣고 초코 핫케익\\n구워 봤어용'}]}"
      ]
     },
     "execution_count": 159,
     "metadata": {},
     "output_type": "execute_result"
    }
   ],
   "source": [
    "recipe_list[25]"
   ]
  }
 ],
 "metadata": {
  "kernelspec": {
   "display_name": "Python 3 (ipykernel)",
   "language": "python",
   "name": "python3"
  },
  "language_info": {
   "codemirror_mode": {
    "name": "ipython",
    "version": 3
   },
   "file_extension": ".py",
   "mimetype": "text/x-python",
   "name": "python",
   "nbconvert_exporter": "python",
   "pygments_lexer": "ipython3",
   "version": "3.9.12"
  }
 },
 "nbformat": 4,
 "nbformat_minor": 5
}
