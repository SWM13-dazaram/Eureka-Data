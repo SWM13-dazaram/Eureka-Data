{
 "cells": [
  {
   "cell_type": "code",
   "execution_count": 3,
   "id": "4f8be22f",
   "metadata": {},
   "outputs": [],
   "source": [
    "# !pip install ray\n",
    "# !pip install \"ray[default]\"\n",
    "# !pip uninstall grpcio\n",
    "#!pip install lxml\n",
    "import requests\n",
    "import json\n",
    "import random\n",
    "from time import time, sleep\n",
    "from bs4 import BeautifulSoup\n",
    "from tqdm import tqdm\n",
    "import ray\n",
    "basic_url = \"https://www.10000recipe.com\"\n",
    "headers = {'User-Agent' : 'Mozilla/5.0 (Macintosh; Intel Mac OS X 10_15_7) AppleWebKit/537.36 (KHTML, like Gecko) Chrome/103.0.0.0 Safari/537.36'}\n",
    "ingridient_seperator = \"                                                                                    \""
   ]
  },
  {
   "cell_type": "code",
   "execution_count": 4,
   "id": "be99ab1f",
   "metadata": {},
   "outputs": [],
   "source": [
    "# ray for loop 안에서 잦은 get 지양"
   ]
  },
  {
   "cell_type": "code",
   "execution_count": 5,
   "id": "5765229d",
   "metadata": {},
   "outputs": [],
   "source": [
    "# lxml 사용시 htmlParseEntityRef: expecting ';' warning 뜸\n",
    "# 실행은 되지만 warning 문을 출력해서 log에 뜸\n",
    "# 그래서 html.parser 사용"
   ]
  },
  {
   "cell_type": "code",
   "execution_count": 6,
   "id": "d36ba517",
   "metadata": {},
   "outputs": [],
   "source": [
    "@ray.remote\n",
    "def crawling_recipe_path_list(page):\n",
    "    recipe_path_list = []\n",
    "    url = f\"{basic_url}/recipe/list.html?order=date&page={page}\"\n",
    "    response = requests.get(url, headers = headers)\n",
    "    # dag만들 때 오류처리 하기\n",
    "    if response.status_code !=200:\n",
    "        print(f\"{page} 페이지 접속 불가\")\n",
    "        return []\n",
    "    soup = BeautifulSoup(response.text, \"html.parser\")\n",
    "    try:\n",
    "        for a in soup.find(\"ul\",\"common_sp_list_ul\").find_all(\"a\",\"common_sp_link\"):\n",
    "            recipe_path_list.append(a.get(\"href\"))\n",
    "    except:\n",
    "        print(f\"{page}페이지 에러 뜸 / 빈 리스트 반환\")\n",
    "        return []\n",
    "        \n",
    "    return recipe_path_list"
   ]
  },
  {
   "cell_type": "code",
   "execution_count": 7,
   "id": "6b6a26ef",
   "metadata": {},
   "outputs": [],
   "source": [
    "# try catch로 오류 처리 해주기\n",
    "def parsing_recipe_ingredients(soup):\n",
    "    ingredient_list = []\n",
    "    for ul in (soup.find(\"div\", \"ready_ingre3\").find_all(\"ul\")):\n",
    "        for li in ul.find_all(\"li\"):\n",
    "            ingredient = {}\n",
    "            ingredient['name'] = (li.text.split(\"\\n\")[0].split(ingridient_seperator)[0].strip(\" \"))\n",
    "            ingredient['quantity'] = (li.find(\"span\",\"ingre_unit\").text.strip(\" \"))\n",
    "            ingredient_list.append(ingredient)\n",
    "    return ingredient_list"
   ]
  },
  {
   "cell_type": "code",
   "execution_count": 8,
   "id": "a1fcd1a1",
   "metadata": {},
   "outputs": [],
   "source": [
    "# try catch로 오류 처리 해주기\n",
    "def parsing_recipe_ingredients_new(soup):\n",
    "    ingredient_list = []\n",
    "    for dl in (soup.find(\"div\", \"cont_ingre\").find_all(\"dl\")):\n",
    "        for ingre in dl.find(\"dd\").text.split(\", \"):\n",
    "            name , quantity = ingre.split()\n",
    "            ingredient = {}\n",
    "            ingredient['name'] = name\n",
    "            ingredient['quantity'] = quantity\n",
    "            ingredient_list.append(ingredient)\n",
    "    return ingredient_list\n",
    "# response = requests.get(f\"https://www.10000recipe.com{recipe_path_list[6]}\", headers=headers)\n",
    "# print(recipe_path_list[2])\n",
    "# soup = BeautifulSoup(response.text, \"html.parser\")\n",
    "# parsing_recipe_ingredients_new(soup)"
   ]
  },
  {
   "cell_type": "code",
   "execution_count": 9,
   "id": "e2177266",
   "metadata": {},
   "outputs": [],
   "source": [
    "def parsing_recipe_sequences(soup):\n",
    "    sequence_list = []\n",
    "    for idx, div in enumerate(soup.find(\"div\",\"view_step\").find_all(\"div\",\"view_step_cont\")):\n",
    "        sequence = {}\n",
    "        sequence['sequence'] = idx+1\n",
    "        sequence['content'] = div.text\n",
    "        sequence_list.append(sequence)\n",
    "    return sequence_list"
   ]
  },
  {
   "cell_type": "code",
   "execution_count": 10,
   "id": "ce3cf8be",
   "metadata": {},
   "outputs": [],
   "source": [
    "@ray.remote\n",
    "def makeing_recipe(recipe_path):\n",
    "    sleep(random.randrange(1,2)*random.random())\n",
    "    url = basic_url+recipe_path\n",
    "    response = requests.get(url, headers=headers)\n",
    "    # dag만들 때 오류처리 하기\n",
    "    if response.status_code !=200:\n",
    "        print(f\"페이지 오류 {recipe_path}\")\n",
    "        return {}\n",
    "    soup = BeautifulSoup(response.text, \"html.parser\")\n",
    "    \n",
    "    recipe = {}\n",
    "    try:\n",
    "        recipe['recipe_id'] = recipe_path.split(\"/\")[2]\n",
    "    except:\n",
    "        print(f\"아이디 오류 {recipe_path}\")\n",
    "    try: \n",
    "        recipe['img'] = soup.find(\"img\", id=\"main_thumbs\").get(\"src\")\n",
    "    except:\n",
    "        print(f\"이미지 오류 {recipe_path}\")\n",
    "    try:\n",
    "        recipe['title'] = soup.find(\"div\",\"view2_summary st3\").find(\"h3\").text\n",
    "    except:\n",
    "        print(f\"이름 오류 {recipe_path}\")\n",
    "        \n",
    "    try:\n",
    "        recipe['size'] = soup.find(\"span\",\"view2_summary_info1\").text\n",
    "    except:\n",
    "        print(f\"몇인분 오류 {recipe_path}\")\n",
    "        \n",
    "    try:\n",
    "        recipe['ingredients'] = parsing_recipe_ingredients(soup)\n",
    "    except:\n",
    "        try:\n",
    "            recipe['ingredients'] = parsing_recipe_ingredients_new(soup)\n",
    "        except:\n",
    "            return {} # 그냥 레시피 버리기\n",
    "            print(f\"재료 오류 {recipe_path}\")\n",
    "        \n",
    "    try:\n",
    "        recipe['sequences'] = parsing_recipe_sequences(soup)\n",
    "    except:\n",
    "        print(f\"조리법 오류 {recipe_path}\")\n",
    "    \n",
    "    return recipe"
   ]
  },
  {
   "cell_type": "code",
   "execution_count": 11,
   "id": "db36cfb4",
   "metadata": {},
   "outputs": [
    {
     "name": "stderr",
     "output_type": "stream",
     "text": [
      "2022-08-05 11:38:54,382\tINFO services.py:1456 -- View the Ray dashboard at \u001b[1m\u001b[32mhttp://127.0.0.1:8265\u001b[39m\u001b[22m\n"
     ]
    },
    {
     "data": {
      "text/plain": [
       "RayContext(dashboard_url='127.0.0.1:8265', python_version='3.9.13', ray_version='1.12.1', ray_commit='4863e33856b54ccf8add5cbe75e41558850a1b75', address_info={'node_ip_address': '127.0.0.1', 'raylet_ip_address': '127.0.0.1', 'redis_address': None, 'object_store_address': '/tmp/ray/session_2022-08-05_11-38-52_673324_24237/sockets/plasma_store', 'raylet_socket_name': '/tmp/ray/session_2022-08-05_11-38-52_673324_24237/sockets/raylet', 'webui_url': '127.0.0.1:8265', 'session_dir': '/tmp/ray/session_2022-08-05_11-38-52_673324_24237', 'metrics_export_port': 51814, 'gcs_address': '127.0.0.1:53303', 'address': '127.0.0.1:53303', 'node_id': '0386b7e8eaf5b2f375652cd48913c294e6362af58b1b88e100c73627'})"
      ]
     },
     "execution_count": 11,
     "metadata": {},
     "output_type": "execute_result"
    }
   ],
   "source": [
    "ray.init()"
   ]
  },
  {
   "cell_type": "code",
   "execution_count": 12,
   "id": "08cb4bae",
   "metadata": {},
   "outputs": [],
   "source": [
    "def crawling(st,end):\n",
    "    recipe_list = []\n",
    "    for i in tqdm(range(st,end)):\n",
    "        recipe_path_list = ray.get(crawling_recipe_path_list.remote(i))\n",
    "        start = time()\n",
    "        ref_list = []\n",
    "        for recipe_path in tqdm(recipe_path_list):\n",
    "            ref_list.append(makeing_recipe.remote(recipe_path))\n",
    "        recipe_list.extend(ray.get(ref_list))\n",
    "        c = (time()-start)\n",
    "        print(c)\n",
    "    with open(f\"recipe/Asite/{st}_{end}.json\", 'w',encoding = 'UTF-8') as f:\n",
    "        json.dump(recipe_list, f,ensure_ascii = False)\n",
    "    return recipe_list"
   ]
  },
  {
   "cell_type": "code",
   "execution_count": 14,
   "id": "f3e6a039",
   "metadata": {},
   "outputs": [],
   "source": [
    "ray.shutdown()"
   ]
  },
  {
   "cell_type": "code",
   "execution_count": null,
   "id": "37676154",
   "metadata": {},
   "outputs": [],
   "source": []
  }
 ],
 "metadata": {
  "kernelspec": {
   "display_name": "Python 3 (ipykernel)",
   "language": "python",
   "name": "python3"
  },
  "language_info": {
   "codemirror_mode": {
    "name": "ipython",
    "version": 3
   },
   "file_extension": ".py",
   "mimetype": "text/x-python",
   "name": "python",
   "nbconvert_exporter": "python",
   "pygments_lexer": "ipython3",
   "version": "3.9.13"
  },
  "vscode": {
   "interpreter": {
    "hash": "31f2aee4e71d21fbe5cf8b01ff0e069b9275f58929596ceb00d14d90e3e16cd6"
   }
  }
 },
 "nbformat": 4,
 "nbformat_minor": 5
}
