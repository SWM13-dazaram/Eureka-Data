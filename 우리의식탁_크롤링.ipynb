{
 "cells": [
  {
   "cell_type": "code",
   "execution_count": 1,
   "id": "4cc8dc86",
   "metadata": {},
   "outputs": [],
   "source": [
    "import requests\n",
    "import json\n",
    "from tqdm import tqdm"
   ]
  },
  {
   "cell_type": "code",
   "execution_count": 2,
   "id": "2096b06f",
   "metadata": {},
   "outputs": [],
   "source": [
    "def crawling_recipe_list(offset,limit):\n",
    "    url = \"https://wtable.net/api_v2/recipe/list\" \\\n",
    "    \"?app_version=1\" \\\n",
    "    \"&platform=web\" \\\n",
    "    \"&order=publish_desc\" \\\n",
    "    f\"&offset={offset}\" \\\n",
    "    f\"&limit={limit}\"\n",
    "    response = requests.get(url)\n",
    "    json_data=json.loads(response.text)\n",
    "    if not json_data['success']:\n",
    "        pass # 나중에는 오류 설정하기\n",
    "    total_elements= json_data['total_elements']\n",
    "    data_list = json_data['data']\n",
    "    return  total_elements, data_list"
   ]
  },
  {
   "cell_type": "code",
   "execution_count": 3,
   "id": "b1a88b9b",
   "metadata": {},
   "outputs": [],
   "source": [
    "def parsing_recipe_list(data_list):\n",
    "    recipe_list = []\n",
    "    for data in data_list:\n",
    "        recipe = {}\n",
    "        recipe['title'] = data['title']\n",
    "        recipe['title_desc'] = data['title_desc']\n",
    "        recipe['token'] = data['token']\n",
    "        recipe['title_img'] = data['profile_img']\n",
    "        recipe_list.append(recipe)\n",
    "    return recipe_list"
   ]
  },
  {
   "cell_type": "code",
   "execution_count": 4,
   "id": "101bf15a",
   "metadata": {},
   "outputs": [],
   "source": [
    "def crawling_recipe_detail(token):\n",
    "    url = \"https://wtable.co.kr/_next/data/QyVQmbVsmSdCqTclsMsAZ/recipes\"\\\n",
    "    f\"/{token}.json\"\\\n",
    "    \"?location=recipe_home\"\\\n",
    "    f\"&token={token}\"\n",
    "    response = requests.get(url)\n",
    "    json_data=json.loads(response.text)\n",
    "    data=json_data['pageProps']['recipe']\n",
    "    recipe_detail={}\n",
    "    if data['token']!=token:\n",
    "        return recipe_detail # 다른레시피면 null\n",
    "    recipe_detail['description'] = data['description']\n",
    "    recipe_detail['theme_names'] = data['theme_names'] # 리스트 형태\n",
    "    recipe_detail['sequences'] = data['recipe_steps'] \n",
    "    recipe_detail['ingredients'] = data['recipe_igroups']\n",
    "    return recipe_detail"
   ]
  },
  {
   "cell_type": "code",
   "execution_count": 5,
   "id": "963322f6",
   "metadata": {},
   "outputs": [],
   "source": [
    "def parsing_recipe_sequences(steps):\n",
    "    sequences = []\n",
    "    for idx,step in enumerate(steps):\n",
    "        sequence={}\n",
    "        sequence['content'] = step['content']\n",
    "        sequence['sequence'] = idx+1\n",
    "        sequences.append(sequence)\n",
    "    return sequences"
   ]
  },
  {
   "cell_type": "code",
   "execution_count": 6,
   "id": "b915f97a",
   "metadata": {},
   "outputs": [],
   "source": [
    "def parsing_recipe_ingredients(ingredients_list):\n",
    "    ingredients=[]\n",
    "    for ingredien_group in ingredients_list:\n",
    "        for ingre in ingredien_group['ingredients']:\n",
    "            ingredient={}\n",
    "            ingredient['name'] = ingre['name']\n",
    "            ingredient['quantity'] = ingre['value']\n",
    "            ingredients.append(ingredient)\n",
    "    return ingredients"
   ]
  },
  {
   "cell_type": "code",
   "execution_count": 7,
   "id": "24ade2c3",
   "metadata": {},
   "outputs": [],
   "source": [
    "def parsing_recipe(crawled_recipe):\n",
    "    recipe_detail = crawling_recipe_detail(crawled_recipe['token'])\n",
    "    recipe_detail['sequences'] = parsing_recipe_sequences(recipe_detail['sequences'])\n",
    "    recipe_detail['ingredients'] = parsing_recipe_ingredients(recipe_detail['ingredients'])"
   ]
  },
  {
   "cell_type": "code",
   "execution_count": 8,
   "id": "8e7ed6da",
   "metadata": {},
   "outputs": [],
   "source": [
    "def making_recipe_detail(recipe_list):\n",
    "    for crawled_recipe in tqdm(recipe_list):\n",
    "        recipe_detail = crawling_recipe_detail(crawled_recipe['token'])\n",
    "        recipe_detail['sequences'] = parsing_recipe_sequences(recipe_detail['sequences'])\n",
    "        recipe_detail['ingredients'] = parsing_recipe_ingredients(recipe_detail['ingredients'])\n",
    "        crawled_recipe.update(recipe_detail)\n",
    "    return recipe_list"
   ]
  },
  {
   "cell_type": "code",
   "execution_count": 15,
   "id": "9daa3577",
   "metadata": {},
   "outputs": [],
   "source": [
    "# 레시피 리스트를 원하는 만큼 크롤링합니다\n",
    "offset = 0\n",
    "limit = 10000\n",
    "total_elements ,data_list = crawling_recipe_list(offset,limit)"
   ]
  },
  {
   "cell_type": "code",
   "execution_count": 16,
   "id": "fb47e149",
   "metadata": {},
   "outputs": [],
   "source": [
    "# 레시피 리스트에서 필요한 부분만 파싱합니다\n",
    "incomplete_recipe_list = parsing_recipe_list(data_list)"
   ]
  },
  {
   "cell_type": "code",
   "execution_count": 17,
   "id": "b80374cc",
   "metadata": {},
   "outputs": [
    {
     "name": "stderr",
     "output_type": "stream",
     "text": [
      "100%|███████████████████████████████████████| 1746/1746 [21:05<00:00,  1.38it/s]\n"
     ]
    }
   ],
   "source": [
    "# 레시피의 토큰을 사용하여 레시피 상세정보를 가져옵니다\n",
    "recipe_list = making_recipe_detail(incomplete_recipe_list)"
   ]
  },
  {
   "cell_type": "code",
   "execution_count": 24,
   "id": "2a7f841b",
   "metadata": {},
   "outputs": [],
   "source": [
    "# json으로 저장\n",
    "with open(\"우리의 식탁.json\", 'w', encoding=\"UTF-8\") as f:\n",
    "    json.dump(recipe_list, f, indent=4, ensure_ascii=False)"
   ]
  }
 ],
 "metadata": {
  "kernelspec": {
   "display_name": "Python 3 (ipykernel)",
   "language": "python",
   "name": "python3"
  },
  "language_info": {
   "codemirror_mode": {
    "name": "ipython",
    "version": 3
   },
   "file_extension": ".py",
   "mimetype": "text/x-python",
   "name": "python",
   "nbconvert_exporter": "python",
   "pygments_lexer": "ipython3",
   "version": "3.9.12"
  }
 },
 "nbformat": 4,
 "nbformat_minor": 5
}
